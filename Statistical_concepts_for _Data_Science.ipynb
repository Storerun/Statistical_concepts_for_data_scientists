{
 "cells": [
  {
   "cell_type": "code",
   "execution_count": 5,
   "id": "90dab2a5",
   "metadata": {},
   "outputs": [],
   "source": [
    "# import all necessary libraries\n",
    "import numpy as np\n",
    "import pandas as pd\n",
    "import matplotlib.pyplot as plt\n",
    "import seaborn as sns\n",
    "import statistics"
   ]
  },
  {
   "cell_type": "markdown",
   "id": "3276dc8c",
   "metadata": {},
   "source": [
    "## Measures of center\n"
   ]
  },
  {
   "cell_type": "code",
   "execution_count": 6,
   "id": "50d9251f",
   "metadata": {},
   "outputs": [
    {
     "data": {
      "text/html": [
       "<div>\n",
       "<style scoped>\n",
       "    .dataframe tbody tr th:only-of-type {\n",
       "        vertical-align: middle;\n",
       "    }\n",
       "\n",
       "    .dataframe tbody tr th {\n",
       "        vertical-align: top;\n",
       "    }\n",
       "\n",
       "    .dataframe thead th {\n",
       "        text-align: right;\n",
       "    }\n",
       "</style>\n",
       "<table border=\"1\" class=\"dataframe\">\n",
       "  <thead>\n",
       "    <tr style=\"text-align: right;\">\n",
       "      <th></th>\n",
       "      <th>Age</th>\n",
       "    </tr>\n",
       "  </thead>\n",
       "  <tbody>\n",
       "    <tr>\n",
       "      <th>0</th>\n",
       "      <td>31</td>\n",
       "    </tr>\n",
       "    <tr>\n",
       "      <th>1</th>\n",
       "      <td>47</td>\n",
       "    </tr>\n",
       "    <tr>\n",
       "      <th>2</th>\n",
       "      <td>26</td>\n",
       "    </tr>\n",
       "    <tr>\n",
       "      <th>3</th>\n",
       "      <td>49</td>\n",
       "    </tr>\n",
       "    <tr>\n",
       "      <th>4</th>\n",
       "      <td>37</td>\n",
       "    </tr>\n",
       "    <tr>\n",
       "      <th>5</th>\n",
       "      <td>22</td>\n",
       "    </tr>\n",
       "    <tr>\n",
       "      <th>6</th>\n",
       "      <td>23</td>\n",
       "    </tr>\n",
       "    <tr>\n",
       "      <th>7</th>\n",
       "      <td>23</td>\n",
       "    </tr>\n",
       "    <tr>\n",
       "      <th>8</th>\n",
       "      <td>32</td>\n",
       "    </tr>\n",
       "    <tr>\n",
       "      <th>9</th>\n",
       "      <td>36</td>\n",
       "    </tr>\n",
       "  </tbody>\n",
       "</table>\n",
       "</div>"
      ],
      "text/plain": [
       "   Age\n",
       "0   31\n",
       "1   47\n",
       "2   26\n",
       "3   49\n",
       "4   37\n",
       "5   22\n",
       "6   23\n",
       "7   23\n",
       "8   32\n",
       "9   36"
      ]
     },
     "execution_count": 6,
     "metadata": {},
     "output_type": "execute_result"
    }
   ],
   "source": [
    "# Create a dataframe with a dictionary of 10 random integers between 20 and 50.\n",
    "np.random.seed(12)\n",
    "df= pd.DataFrame({'Age':np.random.randint(20,50,10)})\n",
    "df"
   ]
  },
  {
   "cell_type": "code",
   "execution_count": 7,
   "id": "e334411d",
   "metadata": {
    "scrolled": false
   },
   "outputs": [
    {
     "name": "stdout",
     "output_type": "stream",
     "text": [
      "The mean Age is:  32.6\n"
     ]
    }
   ],
   "source": [
    "# mean\n",
    "print('The mean Age is: ', df.Age.mean())"
   ]
  },
  {
   "cell_type": "code",
   "execution_count": 8,
   "id": "16215a1d",
   "metadata": {},
   "outputs": [
    {
     "name": "stdout",
     "output_type": "stream",
     "text": [
      "The median Age is:  31.5\n"
     ]
    }
   ],
   "source": [
    "# median\n",
    "print('The median Age is: ', df.Age.median())"
   ]
  },
  {
   "cell_type": "code",
   "execution_count": 9,
   "id": "07ffe2d2",
   "metadata": {},
   "outputs": [
    {
     "name": "stdout",
     "output_type": "stream",
     "text": [
      "The mode of Age is:  23\n"
     ]
    }
   ],
   "source": [
    "# mode\n",
    "print(\"The mode of Age is: \",statistics.mode(df.Age))"
   ]
  },
  {
   "cell_type": "code",
   "execution_count": 10,
   "id": "4535a277",
   "metadata": {},
   "outputs": [
    {
     "data": {
      "text/html": [
       "<div>\n",
       "<style scoped>\n",
       "    .dataframe tbody tr th:only-of-type {\n",
       "        vertical-align: middle;\n",
       "    }\n",
       "\n",
       "    .dataframe tbody tr th {\n",
       "        vertical-align: top;\n",
       "    }\n",
       "\n",
       "    .dataframe thead th {\n",
       "        text-align: right;\n",
       "    }\n",
       "</style>\n",
       "<table border=\"1\" class=\"dataframe\">\n",
       "  <thead>\n",
       "    <tr style=\"text-align: right;\">\n",
       "      <th></th>\n",
       "      <th>Age</th>\n",
       "    </tr>\n",
       "  </thead>\n",
       "  <tbody>\n",
       "    <tr>\n",
       "      <th>0</th>\n",
       "      <td>31</td>\n",
       "    </tr>\n",
       "    <tr>\n",
       "      <th>1</th>\n",
       "      <td>47</td>\n",
       "    </tr>\n",
       "    <tr>\n",
       "      <th>2</th>\n",
       "      <td>26</td>\n",
       "    </tr>\n",
       "    <tr>\n",
       "      <th>3</th>\n",
       "      <td>49</td>\n",
       "    </tr>\n",
       "    <tr>\n",
       "      <th>4</th>\n",
       "      <td>37</td>\n",
       "    </tr>\n",
       "    <tr>\n",
       "      <th>5</th>\n",
       "      <td>22</td>\n",
       "    </tr>\n",
       "    <tr>\n",
       "      <th>6</th>\n",
       "      <td>23</td>\n",
       "    </tr>\n",
       "    <tr>\n",
       "      <th>7</th>\n",
       "      <td>23</td>\n",
       "    </tr>\n",
       "    <tr>\n",
       "      <th>8</th>\n",
       "      <td>32</td>\n",
       "    </tr>\n",
       "    <tr>\n",
       "      <th>9</th>\n",
       "      <td>36</td>\n",
       "    </tr>\n",
       "    <tr>\n",
       "      <th>10</th>\n",
       "      <td>95</td>\n",
       "    </tr>\n",
       "  </tbody>\n",
       "</table>\n",
       "</div>"
      ],
      "text/plain": [
       "    Age\n",
       "0    31\n",
       "1    47\n",
       "2    26\n",
       "3    49\n",
       "4    37\n",
       "5    22\n",
       "6    23\n",
       "7    23\n",
       "8    32\n",
       "9    36\n",
       "10   95"
      ]
     },
     "execution_count": 10,
     "metadata": {},
     "output_type": "execute_result"
    }
   ],
   "source": [
    "# Outliers\n",
    "df.loc[len(df.index)] = 95\n",
    "df"
   ]
  },
  {
   "cell_type": "code",
   "execution_count": 11,
   "id": "8f115d9d",
   "metadata": {},
   "outputs": [
    {
     "data": {
      "text/plain": [
       "mean      38.272727\n",
       "median    32.000000\n",
       "Name: Age, dtype: float64"
      ]
     },
     "execution_count": 11,
     "metadata": {},
     "output_type": "execute_result"
    }
   ],
   "source": [
    "# updated mean with outlier value\n",
    "df.Age.agg([np.mean,np.median])"
   ]
  },
  {
   "cell_type": "markdown",
   "id": "9873a0a4",
   "metadata": {},
   "source": [
    "## Histogram"
   ]
  },
  {
   "cell_type": "code",
   "execution_count": 12,
   "id": "ff127233",
   "metadata": {},
   "outputs": [
    {
     "data": {
      "text/html": [
       "<div>\n",
       "<style scoped>\n",
       "    .dataframe tbody tr th:only-of-type {\n",
       "        vertical-align: middle;\n",
       "    }\n",
       "\n",
       "    .dataframe tbody tr th {\n",
       "        vertical-align: top;\n",
       "    }\n",
       "\n",
       "    .dataframe thead th {\n",
       "        text-align: right;\n",
       "    }\n",
       "</style>\n",
       "<table border=\"1\" class=\"dataframe\">\n",
       "  <thead>\n",
       "    <tr style=\"text-align: right;\">\n",
       "      <th></th>\n",
       "      <th>Weight in pounds</th>\n",
       "    </tr>\n",
       "  </thead>\n",
       "  <tbody>\n",
       "    <tr>\n",
       "      <th>0</th>\n",
       "      <td>154.729858</td>\n",
       "    </tr>\n",
       "    <tr>\n",
       "      <th>1</th>\n",
       "      <td>143.185741</td>\n",
       "    </tr>\n",
       "    <tr>\n",
       "      <th>2</th>\n",
       "      <td>152.424395</td>\n",
       "    </tr>\n",
       "  </tbody>\n",
       "</table>\n",
       "</div>"
      ],
      "text/plain": [
       "   Weight in pounds\n",
       "0        154.729858\n",
       "1        143.185741\n",
       "2        152.424395"
      ]
     },
     "execution_count": 12,
     "metadata": {},
     "output_type": "execute_result"
    }
   ],
   "source": [
    "# Create a dataframe with a dictionary of random distrubution of mean 150, standard dev,10 and size = 100\n",
    "np.random.seed(12)\n",
    "data=pd.DataFrame({\"Weight in pounds\": np.random.normal(150,10,100)})\n",
    "data.head(3)"
   ]
  },
  {
   "cell_type": "code",
   "execution_count": 130,
   "id": "e60e032e",
   "metadata": {},
   "outputs": [
    {
     "data": {
      "image/png": "[encoded data removed]",
      "text/plain": [
       "<Figure size 432x288 with 1 Axes>"
      ]
     },
     "metadata": {},
     "output_type": "display_data"
    }
   ],
   "source": [
    "# plot histogram of the weight column\n",
    "sns.set()\n",
    "plt.hist(data['Weight in pounds'])\n",
    "plt.xlabel('Weight in pounds')\n",
    "plt.ylabel('Number of Weights')  \n",
    "plt.title(\"Random Weight Histogram Distribution\")       \n",
    "plt.show()   "
   ]
  },
  {
   "cell_type": "markdown",
   "id": "51c13dba",
   "metadata": {},
   "source": [
    "## Cumulative Distribution Function"
   ]
  },
  {
   "cell_type": "code",
   "execution_count": 131,
   "id": "8267a0fd",
   "metadata": {},
   "outputs": [],
   "source": [
    "def cdf(data):\n",
    "    x= np.sort(data)\n",
    "    y= np.arange(1,len(x)+1)/len(x)\n",
    "    plt.plot(x,y,marker='.', linestyle='none')\n",
    "    plt.xlabel('Weight in pounds')\n",
    "    plt.ylabel('CDF')\n",
    "    plt.title('Cumulative Distribution Function')\n",
    "    plt.show()"
   ]
  },
  {
   "cell_type": "code",
   "execution_count": 132,
   "id": "f684cc46",
   "metadata": {},
   "outputs": [
    {
     "data": {
      "image/png": "[encoded data removed]",
      "text/plain": [
       "<Figure size 432x288 with 1 Axes>"
      ]
     },
     "metadata": {},
     "output_type": "display_data"
    }
   ],
   "source": [
    "cdf(data['Weight in pounds'])"
   ]
  },
  {
   "cell_type": "markdown",
   "id": "570312b7",
   "metadata": {},
   "source": [
    "## Measure of Dispersion"
   ]
  },
  {
   "cell_type": "code",
   "execution_count": 14,
   "id": "49e3aa5d",
   "metadata": {},
   "outputs": [
    {
     "name": "stdout",
     "output_type": "stream",
     "text": [
      "The variance of weight is:  109.40124282755109\n"
     ]
    }
   ],
   "source": [
    "# variance\n",
    "variance=np.var(data['Weight in pounds'])\n",
    "print('The variance of weight is: ', variance)"
   ]
  },
  {
   "cell_type": "code",
   "execution_count": 15,
   "id": "faac6a5a",
   "metadata": {},
   "outputs": [
    {
     "name": "stdout",
     "output_type": "stream",
     "text": [
      "The standard deviation of weight is:  10.459504903557868\n"
     ]
    }
   ],
   "source": [
    "# Standardd deviation\n",
    "std= np.std(data['Weight in pounds'])\n",
    "print('The standard deviation of weight is: ', std)"
   ]
  },
  {
   "cell_type": "code",
   "execution_count": 16,
   "id": "fc0f523a",
   "metadata": {},
   "outputs": [
    {
     "name": "stdout",
     "output_type": "stream",
     "text": [
      "50th percentile is :  148.89608871938955\n"
     ]
    },
    {
     "data": {
      "text/plain": [
       "array([118.52583478, 139.97286434, 145.76714186, 151.41931589,\n",
       "       156.48170111, 178.71819395])"
      ]
     },
     "execution_count": 16,
     "metadata": {},
     "output_type": "execute_result"
    }
   ],
   "source": [
    "#Percentiles\n",
    "percentile_50th= np.percentile(data['Weight in pounds'],50)\n",
    "print('50th percentile is : ',percentile_50th)\n",
    "percentile= np.percentile(data['Weight in pounds'],[0,20,40,60,80,100])\n",
    "percentile"
   ]
  },
  {
   "cell_type": "code",
   "execution_count": 17,
   "id": "49b78e7b",
   "metadata": {},
   "outputs": [
    {
     "name": "stdout",
     "output_type": "stream",
     "text": [
      "the interquartile is :  12.433529267546618\n"
     ]
    }
   ],
   "source": [
    "#Interquartile Range\n",
    "iqr=np.percentile(data['Weight in pounds'],75) - np.percentile(data['Weight in pounds'],25)\n",
    "print('the interquartile is : ', iqr)"
   ]
  },
  {
   "cell_type": "code",
   "execution_count": 18,
   "id": "b11802e8",
   "metadata": {},
   "outputs": [
    {
     "data": {
      "image/png": "[encoded data removed]",
      "text/plain": [
       "<Figure size 432x288 with 1 Axes>"
      ]
     },
     "metadata": {},
     "output_type": "display_data"
    }
   ],
   "source": [
    "sns.set()\n",
    "plt.boxplot(data['Weight in pounds'])\n",
    "plt.show()"
   ]
  },
  {
   "cell_type": "code",
   "execution_count": 19,
   "id": "0e14e6e7",
   "metadata": {},
   "outputs": [
    {
     "name": "stdout",
     "output_type": "stream",
     "text": [
      "outliers are :  [123.9602745048105, 173.69439157499698]\n"
     ]
    }
   ],
   "source": [
    "# Outliers\n",
    "lower_outlier= np.percentile(data['Weight in pounds'],25) - 1.5 * iqr\n",
    "upper_outlier= np.percentile(data['Weight in pounds'],75) + 1.5 * iqr\n",
    "print('outliers are : ',[lower_outlier,upper_outlier])"
   ]
  },
  {
   "cell_type": "markdown",
   "id": "5e16d74f",
   "metadata": {},
   "source": [
    "## Normal Distribution\n",
    "\n",
    "For example, An audit firm has collected the income of people working in an aluminium manufacturing industry. The income appears to be normally distributed with a mean of 2500 and a standard deviation of 25. Using the scipy.stats library import norm.rvs to sample 500"
   ]
  },
  {
   "cell_type": "code",
   "execution_count": 27,
   "id": "43ef4142",
   "metadata": {},
   "outputs": [
    {
     "name": "stdout",
     "output_type": "stream",
     "text": [
      "0.0\n"
     ]
    },
    {
     "data": {
      "image/png": "[encoded data removed]",
      "text/plain": [
       "<Figure size 432x288 with 1 Axes>"
      ]
     },
     "metadata": {},
     "output_type": "display_data"
    }
   ],
   "source": [
    "\n",
    "from scipy.stats import norm\n",
    "sample_500 = norm.rvs(2500,25,size=500)\n",
    "sns.histplot(sample_500,kde=True)\n"
   ]
  },
  {
   "cell_type": "markdown",
   "id": "37c98150",
   "metadata": {},
   "source": [
    "## Central Limit Theorem"
   ]
  },
  {
   "cell_type": "code",
   "execution_count": 30,
   "id": "64c9f54f",
   "metadata": {},
   "outputs": [
    {
     "data": {
      "text/plain": [
       "0    1\n",
       "1    2\n",
       "2    3\n",
       "3    4\n",
       "4    5\n",
       "5    6\n",
       "dtype: int64"
      ]
     },
     "execution_count": 30,
     "metadata": {},
     "output_type": "execute_result"
    }
   ],
   "source": [
    "die= pd.Series(range(1,7))\n",
    "die"
   ]
  },
  {
   "cell_type": "code",
   "execution_count": 48,
   "id": "cf84eaff",
   "metadata": {},
   "outputs": [],
   "source": [
    "def cal_sample_mean(series, sample_size,n_rolls):\n",
    "    \"\"\"appends a list of sample means from pandas series\n",
    "     Args:\n",
    "     pandas series, sample_size, n_rolls as the number of times sampling was made\n",
    "     Returns:\n",
    "     list of sample_means\n",
    "    \"\"\" \n",
    "    sample_means = []\n",
    "    for i in range(n_rolls):\n",
    "        sample_means.append(np.mean(die.sample(5, replace=True)))\n",
    "    return sample_means\n",
    "    \n",
    "\n",
    "   "
   ]
  },
  {
   "cell_type": "code",
   "execution_count": 79,
   "id": "d33a3331",
   "metadata": {},
   "outputs": [
    {
     "data": {
      "text/plain": [
       "<AxesSubplot:ylabel='Count'>"
      ]
     },
     "execution_count": 79,
     "metadata": {},
     "output_type": "execute_result"
    },
    {
     "data": {
      "image/png": "[encoded data removed]",
      "text/plain": [
       "<Figure size 432x288 with 1 Axes>"
      ]
     },
     "metadata": {},
     "output_type": "display_data"
    }
   ],
   "source": [
    "sample_20_times =cal_sample_mean(die,10,20)\n",
    "sns.histplot(sample_20_times)\n"
   ]
  },
  {
   "cell_type": "code",
   "execution_count": 77,
   "id": "650d3071",
   "metadata": {},
   "outputs": [
    {
     "data": {
      "text/plain": [
       "<AxesSubplot:ylabel='Count'>"
      ]
     },
     "execution_count": 77,
     "metadata": {},
     "output_type": "execute_result"
    },
    {
     "data": {
      "image/png": "[encoded data removed]",
      "text/plain": [
       "<Figure size 432x288 with 1 Axes>"
      ]
     },
     "metadata": {},
     "output_type": "display_data"
    }
   ],
   "source": [
    "sample_1000_times =cal_sample_mean(die,10,1000)\n",
    "sns.histplot(sample_1000_times)"
   ]
  },
  {
   "cell_type": "markdown",
   "id": "836b17fa",
   "metadata": {},
   "source": [
    "## Binomial Distribution\n",
    "for example, in a manufacturing rubber plant,the probability of hiring a male worker is 0.82 out of 50 survey.\n",
    "\n",
    "binom.pmf calculatescalculatescalculates probability of getting exactly x number of males\n",
    "\n",
    "binom.cdf calculatescalculates probability of getting x number of males or less\n",
    "\n",
    "binom.cdf calculates the probability of getting x number of males or more\n"
   ]
  },
  {
   "cell_type": "code",
   "execution_count": 120,
   "id": "afdb5da6",
   "metadata": {},
   "outputs": [
    {
     "name": "stdout",
     "output_type": "stream",
     "text": [
      "0.014618911028809582\n",
      "0.6995890740896223\n",
      "0.7187428925621797\n"
     ]
    }
   ],
   "source": [
    "from scipy.stats import binom\n",
    "prob_35_men= binom.pmf(35,50,0.82)\n",
    "print(prob_98_men)\n",
    "\n",
    "prob_25_or_less_men = binom.cdf(42,50,0.82)\n",
    "print(prob_25_or_less_men)\n",
    "\n",
    "prob_39_or_more_men = binom.sf(39,50,0.82)\n",
    "print(prob_39_or_more_men)\n"
   ]
  },
  {
   "cell_type": "markdown",
   "id": "6addd91a",
   "metadata": {},
   "source": [
    "## Total Probability law\n",
    "In a data entry job, the probability of completing work on time with fast internet speed and slow internet speed are 0.91 and 0.39 respectively. The probability that there is fast internet speed and slow internet speed are 0.77 and 0.23. What will be the probability of completing the job on time? "
   ]
  },
  {
   "cell_type": "code",
   "execution_count": 122,
   "id": "3c8b0deb",
   "metadata": {},
   "outputs": [
    {
     "name": "stdout",
     "output_type": "stream",
     "text": [
      "The probability of fishing job on time is :  0.7904\n"
     ]
    }
   ],
   "source": [
    "prob_job_fast_internet = 0.91\n",
    "prob_job_slow_internet = 0.39\n",
    "prob_fast_internet = 0.77\n",
    "prob_slow_internet = 0.23\n",
    "\n",
    "prob_finish_job = prob_job_fast_internet * prob_fast_internet + prob_job_slow_internet*prob_slow_internet\n",
    "print(\"The probability of fishing job on time is : \",prob_finish_job)"
   ]
  },
  {
   "cell_type": "markdown",
   "id": "0c2c5613",
   "metadata": {},
   "source": [
    "## Bootstrap sampling"
   ]
  },
  {
   "cell_type": "code",
   "execution_count": 142,
   "id": "7af14654",
   "metadata": {},
   "outputs": [
    {
     "name": "stdout",
     "output_type": "stream",
     "text": [
      "The bootstrap sample mean is:  148.85679358638035\n",
      "The bootstrap sample median is:  148.68217457647427\n",
      "The bootstrap sample standard deviation is:  10.053324800872536\n"
     ]
    }
   ],
   "source": [
    "# creating a bootstrap sample from the data['Weights in pounds'] dataframe.\n",
    "# use the numpy random choice function to select with replacement from the dataframe.\n",
    "# A for loop to acquire 100 bootstrap samples of the data.\n",
    "for _ in range(100):\n",
    "    bs_sample= np.random.choice(data['Weight in pounds'], size=len(data['Weight in pounds'])) \n",
    "print('The bootstrap sample mean is: ',np.mean(bs_sample))\n",
    "print('The bootstrap sample median is: ',np.median(bs_sample))\n",
    "print('The bootstrap sample standard deviation is: ',np.std(bs_sample))"
   ]
  },
  {
   "cell_type": "code",
   "execution_count": 147,
   "id": "96ec4e5c",
   "metadata": {},
   "outputs": [
    {
     "data": {
      "image/png": "[encoded data removed]",
      "text/plain": [
       "<Figure size 432x288 with 1 Axes>"
      ]
     },
     "metadata": {},
     "output_type": "display_data"
    }
   ],
   "source": [
    "# plotting the cdf of the bootstrap sample\n",
    "cdf(bs_sample)\n"
   ]
  },
  {
   "cell_type": "code",
   "execution_count": null,
   "id": "69966d8a",
   "metadata": {},
   "outputs": [],
   "source": []
  },
  {
   "cell_type": "code",
   "execution_count": null,
   "id": "1cd7611a",
   "metadata": {},
   "outputs": [],
   "source": []
  },
  {
   "cell_type": "code",
   "execution_count": null,
   "id": "15f21e3c",
   "metadata": {},
   "outputs": [],
   "source": []
  }
 ],
 "metadata": {
  "kernelspec": {
   "display_name": "Python 3",
   "language": "python",
   "name": "python3"
  },
  "language_info": {
   "codemirror_mode": {
    "name": "ipython",
    "version": 3
   },
   "file_extension": ".py",
   "mimetype": "text/x-python",
   "name": "python",
   "nbconvert_exporter": "python",
   "pygments_lexer": "ipython3",
   "version": "3.8.8"
  }
 },
 "nbformat": 4,
 "nbformat_minor": 5
}
